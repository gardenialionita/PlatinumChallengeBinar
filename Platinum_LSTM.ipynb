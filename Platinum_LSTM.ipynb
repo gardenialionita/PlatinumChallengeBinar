{
  "nbformat": 4,
  "nbformat_minor": 0,
  "metadata": {
    "colab": {
      "provenance": [],
      "authorship_tag": "ABX9TyPotX/UZdYjib90KHTEfINx",
      "include_colab_link": true
    },
    "kernelspec": {
      "name": "python3",
      "display_name": "Python 3"
    },
    "language_info": {
      "name": "python"
    }
  },
  "cells": [
    {
      "cell_type": "markdown",
      "metadata": {
        "id": "view-in-github",
        "colab_type": "text"
      },
      "source": [
        "<a href=\"https://colab.research.google.com/github/gardenialionita/PlatinumChallengeBinar/blob/Playground/Platinum_LSTM.ipynb\" target=\"_parent\"><img src=\"https://colab.research.google.com/assets/colab-badge.svg\" alt=\"Open In Colab\"/></a>"
      ]
    },
    {
      "cell_type": "code",
      "source": [
        "# Standar Library\n",
        "import re\n",
        "import string\n",
        "\n",
        "# Third-party Library\n",
        "import numpy as np\n",
        "import pandas as pd\n",
        "import matplotlib.pyplot as plt\n",
        "from sklearn.model_selection import train_test_split\n",
        "import keras\n",
        "from keras.preprocessing.text import Tokenizer\n",
        "import tensorflow as tf\n",
        "from Sastrawi.Stemmer.StemmerFactory import StemmerFactory"
      ],
      "metadata": {
        "id": "2MsjWs2g1RYb"
      },
      "execution_count": 22,
      "outputs": []
    },
    {
      "cell_type": "code",
      "execution_count": 35,
      "metadata": {
        "colab": {
          "base_uri": "https://localhost:8080/"
        },
        "id": "D_t1hiLgv1L0",
        "outputId": "c56b2c03-aec6-43cd-9b89-0732ee9fa12a"
      },
      "outputs": [
        {
          "output_type": "stream",
          "name": "stdout",
          "text": [
            "                                                    text     label\n",
            "0      warung ini dimiliki oleh pengusaha pabrik tahu...  positive\n",
            "1      mohon ulama lurus dan k212 mmbri hujjah partai...   neutral\n",
            "2      lokasi strategis di jalan sumatera bandung . t...  positive\n",
            "3      betapa bahagia nya diri ini saat unboxing pake...  positive\n",
            "4      duh . jadi mahasiswa jangan sombong dong . kas...  negative\n",
            "...                                                  ...       ...\n",
            "10995                                       tidak kecewa  positive\n",
            "10996  enak rasa masakan nya apalagi kepiting yang me...  positive\n",
            "10997        hormati partai-partai yang telah berkoalisi   neutral\n",
            "10998  pagi pagi di tol pasteur sudah macet parah , b...  negative\n",
            "10999  meskipun sering belanja ke yogya di riau junct...  positive\n",
            "\n",
            "[11000 rows x 2 columns]\n"
          ]
        }
      ],
      "source": [
        "# Read TSV file into DataFrame\n",
        "data = pd.read_table('https://gist.githubusercontent.com/gardenialionita/0e9d51539fce7bad50ef263f7b643347/raw/49f0786f31cd898da6754242a35f749ff21a3c97/train_preprocess.tsv',  names=[\"text\", \"label\"])\n",
        "print(data)\n"
      ]
    },
    {
      "cell_type": "code",
      "source": [
        "data.head()"
      ],
      "metadata": {
        "colab": {
          "base_uri": "https://localhost:8080/",
          "height": 206
        },
        "id": "vv5AV4evzw2T",
        "outputId": "7ee9768a-e294-4694-869a-b2ad8ce8b933"
      },
      "execution_count": 36,
      "outputs": [
        {
          "output_type": "execute_result",
          "data": {
            "text/plain": [
              "                                                text     label\n",
              "0  warung ini dimiliki oleh pengusaha pabrik tahu...  positive\n",
              "1  mohon ulama lurus dan k212 mmbri hujjah partai...   neutral\n",
              "2  lokasi strategis di jalan sumatera bandung . t...  positive\n",
              "3  betapa bahagia nya diri ini saat unboxing pake...  positive\n",
              "4  duh . jadi mahasiswa jangan sombong dong . kas...  negative"
            ],
            "text/html": [
              "\n",
              "  <div id=\"df-823d3e8e-4333-4ca3-b84f-4c47b41cd474\">\n",
              "    <div class=\"colab-df-container\">\n",
              "      <div>\n",
              "<style scoped>\n",
              "    .dataframe tbody tr th:only-of-type {\n",
              "        vertical-align: middle;\n",
              "    }\n",
              "\n",
              "    .dataframe tbody tr th {\n",
              "        vertical-align: top;\n",
              "    }\n",
              "\n",
              "    .dataframe thead th {\n",
              "        text-align: right;\n",
              "    }\n",
              "</style>\n",
              "<table border=\"1\" class=\"dataframe\">\n",
              "  <thead>\n",
              "    <tr style=\"text-align: right;\">\n",
              "      <th></th>\n",
              "      <th>text</th>\n",
              "      <th>label</th>\n",
              "    </tr>\n",
              "  </thead>\n",
              "  <tbody>\n",
              "    <tr>\n",
              "      <th>0</th>\n",
              "      <td>warung ini dimiliki oleh pengusaha pabrik tahu...</td>\n",
              "      <td>positive</td>\n",
              "    </tr>\n",
              "    <tr>\n",
              "      <th>1</th>\n",
              "      <td>mohon ulama lurus dan k212 mmbri hujjah partai...</td>\n",
              "      <td>neutral</td>\n",
              "    </tr>\n",
              "    <tr>\n",
              "      <th>2</th>\n",
              "      <td>lokasi strategis di jalan sumatera bandung . t...</td>\n",
              "      <td>positive</td>\n",
              "    </tr>\n",
              "    <tr>\n",
              "      <th>3</th>\n",
              "      <td>betapa bahagia nya diri ini saat unboxing pake...</td>\n",
              "      <td>positive</td>\n",
              "    </tr>\n",
              "    <tr>\n",
              "      <th>4</th>\n",
              "      <td>duh . jadi mahasiswa jangan sombong dong . kas...</td>\n",
              "      <td>negative</td>\n",
              "    </tr>\n",
              "  </tbody>\n",
              "</table>\n",
              "</div>\n",
              "      <button class=\"colab-df-convert\" onclick=\"convertToInteractive('df-823d3e8e-4333-4ca3-b84f-4c47b41cd474')\"\n",
              "              title=\"Convert this dataframe to an interactive table.\"\n",
              "              style=\"display:none;\">\n",
              "        \n",
              "  <svg xmlns=\"http://www.w3.org/2000/svg\" height=\"24px\"viewBox=\"0 0 24 24\"\n",
              "       width=\"24px\">\n",
              "    <path d=\"M0 0h24v24H0V0z\" fill=\"none\"/>\n",
              "    <path d=\"M18.56 5.44l.94 2.06.94-2.06 2.06-.94-2.06-.94-.94-2.06-.94 2.06-2.06.94zm-11 1L8.5 8.5l.94-2.06 2.06-.94-2.06-.94L8.5 2.5l-.94 2.06-2.06.94zm10 10l.94 2.06.94-2.06 2.06-.94-2.06-.94-.94-2.06-.94 2.06-2.06.94z\"/><path d=\"M17.41 7.96l-1.37-1.37c-.4-.4-.92-.59-1.43-.59-.52 0-1.04.2-1.43.59L10.3 9.45l-7.72 7.72c-.78.78-.78 2.05 0 2.83L4 21.41c.39.39.9.59 1.41.59.51 0 1.02-.2 1.41-.59l7.78-7.78 2.81-2.81c.8-.78.8-2.07 0-2.86zM5.41 20L4 18.59l7.72-7.72 1.47 1.35L5.41 20z\"/>\n",
              "  </svg>\n",
              "      </button>\n",
              "      \n",
              "  <style>\n",
              "    .colab-df-container {\n",
              "      display:flex;\n",
              "      flex-wrap:wrap;\n",
              "      gap: 12px;\n",
              "    }\n",
              "\n",
              "    .colab-df-convert {\n",
              "      background-color: #E8F0FE;\n",
              "      border: none;\n",
              "      border-radius: 50%;\n",
              "      cursor: pointer;\n",
              "      display: none;\n",
              "      fill: #1967D2;\n",
              "      height: 32px;\n",
              "      padding: 0 0 0 0;\n",
              "      width: 32px;\n",
              "    }\n",
              "\n",
              "    .colab-df-convert:hover {\n",
              "      background-color: #E2EBFA;\n",
              "      box-shadow: 0px 1px 2px rgba(60, 64, 67, 0.3), 0px 1px 3px 1px rgba(60, 64, 67, 0.15);\n",
              "      fill: #174EA6;\n",
              "    }\n",
              "\n",
              "    [theme=dark] .colab-df-convert {\n",
              "      background-color: #3B4455;\n",
              "      fill: #D2E3FC;\n",
              "    }\n",
              "\n",
              "    [theme=dark] .colab-df-convert:hover {\n",
              "      background-color: #434B5C;\n",
              "      box-shadow: 0px 1px 3px 1px rgba(0, 0, 0, 0.15);\n",
              "      filter: drop-shadow(0px 1px 2px rgba(0, 0, 0, 0.3));\n",
              "      fill: #FFFFFF;\n",
              "    }\n",
              "  </style>\n",
              "\n",
              "      <script>\n",
              "        const buttonEl =\n",
              "          document.querySelector('#df-823d3e8e-4333-4ca3-b84f-4c47b41cd474 button.colab-df-convert');\n",
              "        buttonEl.style.display =\n",
              "          google.colab.kernel.accessAllowed ? 'block' : 'none';\n",
              "\n",
              "        async function convertToInteractive(key) {\n",
              "          const element = document.querySelector('#df-823d3e8e-4333-4ca3-b84f-4c47b41cd474');\n",
              "          const dataTable =\n",
              "            await google.colab.kernel.invokeFunction('convertToInteractive',\n",
              "                                                     [key], {});\n",
              "          if (!dataTable) return;\n",
              "\n",
              "          const docLinkHtml = 'Like what you see? Visit the ' +\n",
              "            '<a target=\"_blank\" href=https://colab.research.google.com/notebooks/data_table.ipynb>data table notebook</a>'\n",
              "            + ' to learn more about interactive tables.';\n",
              "          element.innerHTML = '';\n",
              "          dataTable['output_type'] = 'display_data';\n",
              "          await google.colab.output.renderOutput(dataTable, element);\n",
              "          const docLink = document.createElement('div');\n",
              "          docLink.innerHTML = docLinkHtml;\n",
              "          element.appendChild(docLink);\n",
              "        }\n",
              "      </script>\n",
              "    </div>\n",
              "  </div>\n",
              "  "
            ]
          },
          "metadata": {},
          "execution_count": 36
        }
      ]
    },
    {
      "cell_type": "code",
      "source": [
        "# replacing values\n",
        "data['label'].replace(['positive', 'neutral','negative'],\n",
        "                        [1, 0,-1], inplace=True)"
      ],
      "metadata": {
        "id": "ds3xPfS84fXh"
      },
      "execution_count": 40,
      "outputs": []
    },
    {
      "cell_type": "code",
      "source": [
        "data.head()"
      ],
      "metadata": {
        "colab": {
          "base_uri": "https://localhost:8080/",
          "height": 206
        },
        "id": "tkqcr8zp44FC",
        "outputId": "1c3a5ab6-fe49-4ac4-aa65-4affd8609212"
      },
      "execution_count": 41,
      "outputs": [
        {
          "output_type": "execute_result",
          "data": {
            "text/plain": [
              "                                                text  label\n",
              "0  warung ini dimiliki oleh pengusaha pabrik tahu...      1\n",
              "1  mohon ulama lurus dan k212 mmbri hujjah partai...      0\n",
              "2  lokasi strategis di jalan sumatera bandung . t...      1\n",
              "3  betapa bahagia nya diri ini saat unboxing pake...      1\n",
              "4  duh . jadi mahasiswa jangan sombong dong . kas...     -1"
            ],
            "text/html": [
              "\n",
              "  <div id=\"df-151a7f41-d564-49e4-b1b4-e02d1d33859c\">\n",
              "    <div class=\"colab-df-container\">\n",
              "      <div>\n",
              "<style scoped>\n",
              "    .dataframe tbody tr th:only-of-type {\n",
              "        vertical-align: middle;\n",
              "    }\n",
              "\n",
              "    .dataframe tbody tr th {\n",
              "        vertical-align: top;\n",
              "    }\n",
              "\n",
              "    .dataframe thead th {\n",
              "        text-align: right;\n",
              "    }\n",
              "</style>\n",
              "<table border=\"1\" class=\"dataframe\">\n",
              "  <thead>\n",
              "    <tr style=\"text-align: right;\">\n",
              "      <th></th>\n",
              "      <th>text</th>\n",
              "      <th>label</th>\n",
              "    </tr>\n",
              "  </thead>\n",
              "  <tbody>\n",
              "    <tr>\n",
              "      <th>0</th>\n",
              "      <td>warung ini dimiliki oleh pengusaha pabrik tahu...</td>\n",
              "      <td>1</td>\n",
              "    </tr>\n",
              "    <tr>\n",
              "      <th>1</th>\n",
              "      <td>mohon ulama lurus dan k212 mmbri hujjah partai...</td>\n",
              "      <td>0</td>\n",
              "    </tr>\n",
              "    <tr>\n",
              "      <th>2</th>\n",
              "      <td>lokasi strategis di jalan sumatera bandung . t...</td>\n",
              "      <td>1</td>\n",
              "    </tr>\n",
              "    <tr>\n",
              "      <th>3</th>\n",
              "      <td>betapa bahagia nya diri ini saat unboxing pake...</td>\n",
              "      <td>1</td>\n",
              "    </tr>\n",
              "    <tr>\n",
              "      <th>4</th>\n",
              "      <td>duh . jadi mahasiswa jangan sombong dong . kas...</td>\n",
              "      <td>-1</td>\n",
              "    </tr>\n",
              "  </tbody>\n",
              "</table>\n",
              "</div>\n",
              "      <button class=\"colab-df-convert\" onclick=\"convertToInteractive('df-151a7f41-d564-49e4-b1b4-e02d1d33859c')\"\n",
              "              title=\"Convert this dataframe to an interactive table.\"\n",
              "              style=\"display:none;\">\n",
              "        \n",
              "  <svg xmlns=\"http://www.w3.org/2000/svg\" height=\"24px\"viewBox=\"0 0 24 24\"\n",
              "       width=\"24px\">\n",
              "    <path d=\"M0 0h24v24H0V0z\" fill=\"none\"/>\n",
              "    <path d=\"M18.56 5.44l.94 2.06.94-2.06 2.06-.94-2.06-.94-.94-2.06-.94 2.06-2.06.94zm-11 1L8.5 8.5l.94-2.06 2.06-.94-2.06-.94L8.5 2.5l-.94 2.06-2.06.94zm10 10l.94 2.06.94-2.06 2.06-.94-2.06-.94-.94-2.06-.94 2.06-2.06.94z\"/><path d=\"M17.41 7.96l-1.37-1.37c-.4-.4-.92-.59-1.43-.59-.52 0-1.04.2-1.43.59L10.3 9.45l-7.72 7.72c-.78.78-.78 2.05 0 2.83L4 21.41c.39.39.9.59 1.41.59.51 0 1.02-.2 1.41-.59l7.78-7.78 2.81-2.81c.8-.78.8-2.07 0-2.86zM5.41 20L4 18.59l7.72-7.72 1.47 1.35L5.41 20z\"/>\n",
              "  </svg>\n",
              "      </button>\n",
              "      \n",
              "  <style>\n",
              "    .colab-df-container {\n",
              "      display:flex;\n",
              "      flex-wrap:wrap;\n",
              "      gap: 12px;\n",
              "    }\n",
              "\n",
              "    .colab-df-convert {\n",
              "      background-color: #E8F0FE;\n",
              "      border: none;\n",
              "      border-radius: 50%;\n",
              "      cursor: pointer;\n",
              "      display: none;\n",
              "      fill: #1967D2;\n",
              "      height: 32px;\n",
              "      padding: 0 0 0 0;\n",
              "      width: 32px;\n",
              "    }\n",
              "\n",
              "    .colab-df-convert:hover {\n",
              "      background-color: #E2EBFA;\n",
              "      box-shadow: 0px 1px 2px rgba(60, 64, 67, 0.3), 0px 1px 3px 1px rgba(60, 64, 67, 0.15);\n",
              "      fill: #174EA6;\n",
              "    }\n",
              "\n",
              "    [theme=dark] .colab-df-convert {\n",
              "      background-color: #3B4455;\n",
              "      fill: #D2E3FC;\n",
              "    }\n",
              "\n",
              "    [theme=dark] .colab-df-convert:hover {\n",
              "      background-color: #434B5C;\n",
              "      box-shadow: 0px 1px 3px 1px rgba(0, 0, 0, 0.15);\n",
              "      filter: drop-shadow(0px 1px 2px rgba(0, 0, 0, 0.3));\n",
              "      fill: #FFFFFF;\n",
              "    }\n",
              "  </style>\n",
              "\n",
              "      <script>\n",
              "        const buttonEl =\n",
              "          document.querySelector('#df-151a7f41-d564-49e4-b1b4-e02d1d33859c button.colab-df-convert');\n",
              "        buttonEl.style.display =\n",
              "          google.colab.kernel.accessAllowed ? 'block' : 'none';\n",
              "\n",
              "        async function convertToInteractive(key) {\n",
              "          const element = document.querySelector('#df-151a7f41-d564-49e4-b1b4-e02d1d33859c');\n",
              "          const dataTable =\n",
              "            await google.colab.kernel.invokeFunction('convertToInteractive',\n",
              "                                                     [key], {});\n",
              "          if (!dataTable) return;\n",
              "\n",
              "          const docLinkHtml = 'Like what you see? Visit the ' +\n",
              "            '<a target=\"_blank\" href=https://colab.research.google.com/notebooks/data_table.ipynb>data table notebook</a>'\n",
              "            + ' to learn more about interactive tables.';\n",
              "          element.innerHTML = '';\n",
              "          dataTable['output_type'] = 'display_data';\n",
              "          await google.colab.output.renderOutput(dataTable, element);\n",
              "          const docLink = document.createElement('div');\n",
              "          docLink.innerHTML = docLinkHtml;\n",
              "          element.appendChild(docLink);\n",
              "        }\n",
              "      </script>\n",
              "    </div>\n",
              "  </div>\n",
              "  "
            ]
          },
          "metadata": {},
          "execution_count": 41
        }
      ]
    },
    {
      "cell_type": "code",
      "source": [
        "punctuations = re.sub(r\"[!<_>#:)\\.]\", \"\", string.punctuation)\n",
        "\n",
        "def punct2wspace(text):\n",
        "    return re.sub(r\"[{}]+\".format(punctuations), \" \", text)\n",
        "\n",
        "def normalize_wspace(text):\n",
        "    return re.sub(r\"\\s+\", \" \", text)\n",
        "\n",
        "def casefolding(text):\n",
        "    return text.lower()"
      ],
      "metadata": {
        "id": "VS7OwgA_1Cd9"
      },
      "execution_count": 42,
      "outputs": []
    },
    {
      "cell_type": "code",
      "source": [
        "# create stemmer\n",
        "factory = StemmerFactory()\n",
        "stemmer = factory.create_stemmer()"
      ],
      "metadata": {
        "id": "BtArWjq62xrc"
      },
      "execution_count": 43,
      "outputs": []
    },
    {
      "cell_type": "code",
      "source": [
        "def preprocess_text(text):\n",
        "    text = punct2wspace(text)\n",
        "    text = normalize_wspace(text)\n",
        "    text = casefolding(text)\n",
        "    # text = stemmer.stem(text)\n",
        "    return text"
      ],
      "metadata": {
        "id": "uc5zdrHP3D6U"
      },
      "execution_count": 44,
      "outputs": []
    },
    {
      "cell_type": "code",
      "source": [
        "data[\"cleaned_text\"] = data[\"text\"].apply(preprocess_text)\n",
        "data.head()"
      ],
      "metadata": {
        "colab": {
          "base_uri": "https://localhost:8080/",
          "height": 206
        },
        "id": "sny2V83y3MZw",
        "outputId": "5dc60838-3d3c-4d97-eccd-af6ec7accfbc"
      },
      "execution_count": 45,
      "outputs": [
        {
          "output_type": "execute_result",
          "data": {
            "text/plain": [
              "                                                text  label  \\\n",
              "0  warung ini dimiliki oleh pengusaha pabrik tahu...      1   \n",
              "1  mohon ulama lurus dan k212 mmbri hujjah partai...      0   \n",
              "2  lokasi strategis di jalan sumatera bandung . t...      1   \n",
              "3  betapa bahagia nya diri ini saat unboxing pake...      1   \n",
              "4  duh . jadi mahasiswa jangan sombong dong . kas...     -1   \n",
              "\n",
              "                                        cleaned_text  \n",
              "0  warung ini dimiliki oleh pengusaha pabrik tahu...  \n",
              "1  mohon ulama lurus dan k212 mmbri hujjah partai...  \n",
              "2  lokasi strategis di jalan sumatera bandung tem...  \n",
              "3  betapa bahagia nya diri ini saat unboxing pake...  \n",
              "4  duh jadi mahasiswa jangan sombong dong kasih k...  "
            ],
            "text/html": [
              "\n",
              "  <div id=\"df-4f3e98aa-49d4-41a6-8495-395d82d9c563\">\n",
              "    <div class=\"colab-df-container\">\n",
              "      <div>\n",
              "<style scoped>\n",
              "    .dataframe tbody tr th:only-of-type {\n",
              "        vertical-align: middle;\n",
              "    }\n",
              "\n",
              "    .dataframe tbody tr th {\n",
              "        vertical-align: top;\n",
              "    }\n",
              "\n",
              "    .dataframe thead th {\n",
              "        text-align: right;\n",
              "    }\n",
              "</style>\n",
              "<table border=\"1\" class=\"dataframe\">\n",
              "  <thead>\n",
              "    <tr style=\"text-align: right;\">\n",
              "      <th></th>\n",
              "      <th>text</th>\n",
              "      <th>label</th>\n",
              "      <th>cleaned_text</th>\n",
              "    </tr>\n",
              "  </thead>\n",
              "  <tbody>\n",
              "    <tr>\n",
              "      <th>0</th>\n",
              "      <td>warung ini dimiliki oleh pengusaha pabrik tahu...</td>\n",
              "      <td>1</td>\n",
              "      <td>warung ini dimiliki oleh pengusaha pabrik tahu...</td>\n",
              "    </tr>\n",
              "    <tr>\n",
              "      <th>1</th>\n",
              "      <td>mohon ulama lurus dan k212 mmbri hujjah partai...</td>\n",
              "      <td>0</td>\n",
              "      <td>mohon ulama lurus dan k212 mmbri hujjah partai...</td>\n",
              "    </tr>\n",
              "    <tr>\n",
              "      <th>2</th>\n",
              "      <td>lokasi strategis di jalan sumatera bandung . t...</td>\n",
              "      <td>1</td>\n",
              "      <td>lokasi strategis di jalan sumatera bandung tem...</td>\n",
              "    </tr>\n",
              "    <tr>\n",
              "      <th>3</th>\n",
              "      <td>betapa bahagia nya diri ini saat unboxing pake...</td>\n",
              "      <td>1</td>\n",
              "      <td>betapa bahagia nya diri ini saat unboxing pake...</td>\n",
              "    </tr>\n",
              "    <tr>\n",
              "      <th>4</th>\n",
              "      <td>duh . jadi mahasiswa jangan sombong dong . kas...</td>\n",
              "      <td>-1</td>\n",
              "      <td>duh jadi mahasiswa jangan sombong dong kasih k...</td>\n",
              "    </tr>\n",
              "  </tbody>\n",
              "</table>\n",
              "</div>\n",
              "      <button class=\"colab-df-convert\" onclick=\"convertToInteractive('df-4f3e98aa-49d4-41a6-8495-395d82d9c563')\"\n",
              "              title=\"Convert this dataframe to an interactive table.\"\n",
              "              style=\"display:none;\">\n",
              "        \n",
              "  <svg xmlns=\"http://www.w3.org/2000/svg\" height=\"24px\"viewBox=\"0 0 24 24\"\n",
              "       width=\"24px\">\n",
              "    <path d=\"M0 0h24v24H0V0z\" fill=\"none\"/>\n",
              "    <path d=\"M18.56 5.44l.94 2.06.94-2.06 2.06-.94-2.06-.94-.94-2.06-.94 2.06-2.06.94zm-11 1L8.5 8.5l.94-2.06 2.06-.94-2.06-.94L8.5 2.5l-.94 2.06-2.06.94zm10 10l.94 2.06.94-2.06 2.06-.94-2.06-.94-.94-2.06-.94 2.06-2.06.94z\"/><path d=\"M17.41 7.96l-1.37-1.37c-.4-.4-.92-.59-1.43-.59-.52 0-1.04.2-1.43.59L10.3 9.45l-7.72 7.72c-.78.78-.78 2.05 0 2.83L4 21.41c.39.39.9.59 1.41.59.51 0 1.02-.2 1.41-.59l7.78-7.78 2.81-2.81c.8-.78.8-2.07 0-2.86zM5.41 20L4 18.59l7.72-7.72 1.47 1.35L5.41 20z\"/>\n",
              "  </svg>\n",
              "      </button>\n",
              "      \n",
              "  <style>\n",
              "    .colab-df-container {\n",
              "      display:flex;\n",
              "      flex-wrap:wrap;\n",
              "      gap: 12px;\n",
              "    }\n",
              "\n",
              "    .colab-df-convert {\n",
              "      background-color: #E8F0FE;\n",
              "      border: none;\n",
              "      border-radius: 50%;\n",
              "      cursor: pointer;\n",
              "      display: none;\n",
              "      fill: #1967D2;\n",
              "      height: 32px;\n",
              "      padding: 0 0 0 0;\n",
              "      width: 32px;\n",
              "    }\n",
              "\n",
              "    .colab-df-convert:hover {\n",
              "      background-color: #E2EBFA;\n",
              "      box-shadow: 0px 1px 2px rgba(60, 64, 67, 0.3), 0px 1px 3px 1px rgba(60, 64, 67, 0.15);\n",
              "      fill: #174EA6;\n",
              "    }\n",
              "\n",
              "    [theme=dark] .colab-df-convert {\n",
              "      background-color: #3B4455;\n",
              "      fill: #D2E3FC;\n",
              "    }\n",
              "\n",
              "    [theme=dark] .colab-df-convert:hover {\n",
              "      background-color: #434B5C;\n",
              "      box-shadow: 0px 1px 3px 1px rgba(0, 0, 0, 0.15);\n",
              "      filter: drop-shadow(0px 1px 2px rgba(0, 0, 0, 0.3));\n",
              "      fill: #FFFFFF;\n",
              "    }\n",
              "  </style>\n",
              "\n",
              "      <script>\n",
              "        const buttonEl =\n",
              "          document.querySelector('#df-4f3e98aa-49d4-41a6-8495-395d82d9c563 button.colab-df-convert');\n",
              "        buttonEl.style.display =\n",
              "          google.colab.kernel.accessAllowed ? 'block' : 'none';\n",
              "\n",
              "        async function convertToInteractive(key) {\n",
              "          const element = document.querySelector('#df-4f3e98aa-49d4-41a6-8495-395d82d9c563');\n",
              "          const dataTable =\n",
              "            await google.colab.kernel.invokeFunction('convertToInteractive',\n",
              "                                                     [key], {});\n",
              "          if (!dataTable) return;\n",
              "\n",
              "          const docLinkHtml = 'Like what you see? Visit the ' +\n",
              "            '<a target=\"_blank\" href=https://colab.research.google.com/notebooks/data_table.ipynb>data table notebook</a>'\n",
              "            + ' to learn more about interactive tables.';\n",
              "          element.innerHTML = '';\n",
              "          dataTable['output_type'] = 'display_data';\n",
              "          await google.colab.output.renderOutput(dataTable, element);\n",
              "          const docLink = document.createElement('div');\n",
              "          docLink.innerHTML = docLinkHtml;\n",
              "          element.appendChild(docLink);\n",
              "        }\n",
              "      </script>\n",
              "    </div>\n",
              "  </div>\n",
              "  "
            ]
          },
          "metadata": {},
          "execution_count": 45
        }
      ]
    },
    {
      "cell_type": "code",
      "source": [
        "target = data[\"label\"]\n",
        "features_text = data[\"cleaned_text\"]"
      ],
      "metadata": {
        "id": "QG9cODLV5QU_"
      },
      "execution_count": 46,
      "outputs": []
    },
    {
      "cell_type": "markdown",
      "source": [
        "Input Pipeline"
      ],
      "metadata": {
        "id": "FHr4KRmj5XKa"
      }
    },
    {
      "cell_type": "code",
      "source": [
        "#split data\n",
        "X_train, X_test, y_train, y_test = train_test_split(features_text, target, random_state=42)"
      ],
      "metadata": {
        "id": "vliZzKTv5Yvn"
      },
      "execution_count": 47,
      "outputs": []
    },
    {
      "cell_type": "code",
      "source": [
        "#TF Dataset\n",
        "BATCH_SIZE = 32"
      ],
      "metadata": {
        "id": "FP_RDZ_Q5aoi"
      },
      "execution_count": 48,
      "outputs": []
    },
    {
      "cell_type": "code",
      "source": [
        "# Ubah input menjadi objek tf.data.Dataset\n",
        "train_dataset = tf.data.Dataset.from_tensor_slices((X_train, y_train))\n",
        "test_dataset = tf.data.Dataset.from_tensor_slices((X_test, y_test))\n",
        "\n",
        "# Terapkan shuffle, batch dan prefetch pada dataset\n",
        "train_dataset = train_dataset.batch(BATCH_SIZE).prefetch(tf.data.AUTOTUNE)\n",
        "test_dataset = test_dataset.batch(BATCH_SIZE).prefetch(tf.data.AUTOTUNE)"
      ],
      "metadata": {
        "id": "5ZlliNCY5gUC"
      },
      "execution_count": 49,
      "outputs": []
    },
    {
      "cell_type": "code",
      "source": [
        "# Melihat isi dataset\n",
        "for feat, tar in train_dataset.take(1):\n",
        "    print(feat[:3])\n",
        "    print(tar[:3])"
      ],
      "metadata": {
        "colab": {
          "base_uri": "https://localhost:8080/"
        },
        "id": "YXc_pt7d5kb6",
        "outputId": "dcfa9eed-e8b8-4bac-89a6-8646d9e4aba2"
      },
      "execution_count": 50,
      "outputs": [
        {
          "output_type": "stream",
          "name": "stdout",
          "text": [
            "tf.Tensor(\n",
            "[b'setelah beberapa tahun saya tidak pernah menginjak lembang dan beberapa teman rekomendasi dusun bambu maka saya mengajak teman saya yang berkunjung ke bandung lokasi memang cukup jauh dan rute jalan yang sempit namun kami semua merasa senang bisa makan siang dan berisitirahat di dusun bambu lembang memang memiliki keunggulan tersendiri dari udara yang segar dan dingin makanan memang relatif cukup mantap '\n",
            " b'restauran alas daun ini adalah pilihan keluarga saya untuk makan siang kenapa selain harga nya yang murah rasanya juga dijamin top ! suasana tempat makan ini setiap saya ku njungi selalu ramai apa lagi kalau liburan pasti daftar tunggu keluarga saya memang paling suka makan makanan khas sunda maklum lidah indonesia hehe kalian bisa memilih menu yang kalian suka '\n",
            " b'untuk mendapatkan pemandangan yang bagus dengan cahaya lampu warna warni sebaiknya pada malam hari karena memiliki latar belakang pemandangan kota pasupati fly over yang merupakan ikon nya dari kota bandung untuk menu makanan nya cukup banyak dan bervariasi '], shape=(3,), dtype=string)\n",
            "tf.Tensor([1 1 1], shape=(3,), dtype=int64)\n"
          ]
        }
      ]
    },
    {
      "cell_type": "code",
      "source": [
        "#Text Encoder\n",
        "max_features = 10000      # Jumlah kosakata\n",
        "embedding_dim = 16        # Jumlah dimensi dalam word embedding"
      ],
      "metadata": {
        "id": "4-2TVx165tUe"
      },
      "execution_count": 51,
      "outputs": []
    },
    {
      "cell_type": "code",
      "source": [
        "# Buat text vectorizer\n",
        "encoder = keras.layers.TextVectorization(max_tokens=max_features)\n",
        "\n",
        "# Latih tokenizer pada data teks\n",
        "encoder.adapt(train_dataset.map(lambda feat, tar: feat))\n",
        "     "
      ],
      "metadata": {
        "id": "GJHz5C4Y50Oh"
      },
      "execution_count": 52,
      "outputs": []
    },
    {
      "cell_type": "code",
      "source": [
        "# Tokenisasi data teks\n",
        "encoder(feat)[:3]"
      ],
      "metadata": {
        "colab": {
          "base_uri": "https://localhost:8080/"
        },
        "id": "hF9eE6H152Y-",
        "outputId": "3b3c276a-86ef-4250-b35a-db1c1abe48ff"
      },
      "execution_count": 53,
      "outputs": [
        {
          "output_type": "execute_result",
          "data": {
            "text/plain": [
              "<tf.Tensor: shape=(3, 67), dtype=int64, numpy=\n",
              "array([[ 145,  129,  176,    6,    7,  168, 3978,  339,    4,  129,   60,\n",
              "         183,  652,  484,  326,    6, 1216,   60,    6,    3,  238,   16,\n",
              "          23,   78,   79,   24,  169,    4, 2089,   44,    3,  506,  112,\n",
              "          37,  100,  485,  322,   26,   14,  139,    4,    1,    5,  652,\n",
              "         484,  339,   79,  257, 2004, 1294,   20,  225,    3,  182,    4,\n",
              "         224,   10,   79,  372,   24,  138,    0,    0,    0,    0,    0,\n",
              "           0],\n",
              "       [1759,  978,  240,   12,   45,   68,   69,    6,   13,   14,  139,\n",
              "         405,  156,   19,    2,    3,  105,   36,   15,  720,  407,   39,\n",
              "          11,   14,   12,  228,    6,  263,  937,   98,  131,  141,   55,\n",
              "          30,  500,  159,  496,  554,   69,    6,   79,  123,   56,   14,\n",
              "          10,  107,  106, 1887,  312,  114,  602,  323,   26,  251,   22,\n",
              "           3,  323,   56,    0,    0,    0,    0,    0,    0,    0,    0,\n",
              "           0],\n",
              "       [  13,  540,   51,    3,   54,    8, 1633,  318,  745, 2392,  712,\n",
              "          91,   40,   71,   27,  257, 2489,  697,   51,   73, 6115,    1,\n",
              "        1872,    3,  250, 3073,    2,   20,   73,   23,   13,   22,   10,\n",
              "           2,   24,   25,    4,  431,    0,    0,    0,    0,    0,    0,\n",
              "           0,    0,    0,    0,    0,    0,    0,    0,    0,    0,    0,\n",
              "           0,    0,    0,    0,    0,    0,    0,    0,    0,    0,    0,\n",
              "           0]])>"
            ]
          },
          "metadata": {},
          "execution_count": 53
        }
      ]
    },
    {
      "cell_type": "markdown",
      "source": [
        "Model Building"
      ],
      "metadata": {
        "id": "nxGB-7Q956zl"
      }
    },
    {
      "cell_type": "code",
      "source": [
        "# Buat model sequential (berurutan)\n",
        "model = keras.Sequential()\n",
        "model.add(encoder)\n",
        "model.add(keras.layers.Embedding(\n",
        "    input_dim=len(encoder.get_vocabulary()), \n",
        "    output_dim=embedding_dim, \n",
        "    mask_zero=True)\n",
        ")\n",
        "model.add(keras.layers.LSTM(16, return_sequences=True))\n",
        "model.add(keras.layers.LSTM(16))\n",
        "model.add(keras.layers.Dropout(0.5))\n",
        "model.add(keras.layers.Dense(8))\n",
        "model.add(keras.layers.Dense(1, activation=\"sigmoid\"))\n",
        "\n",
        "# Tentukan loss, optimizer dan metrik yang akan digunakan\n",
        "model.compile(loss=\"binary_crossentropy\", \n",
        "              optimizer=\"rmsprop\",\n",
        "              metrics=[\"acc\"])"
      ],
      "metadata": {
        "id": "X4lKB0Bp59SW"
      },
      "execution_count": 54,
      "outputs": []
    },
    {
      "cell_type": "markdown",
      "source": [
        "Struktur Model"
      ],
      "metadata": {
        "id": "ZGi1Z5b06F60"
      }
    },
    {
      "cell_type": "code",
      "source": [
        "\n",
        "# Melihat arsitektur model\n",
        "model.summary()\n",
        "     "
      ],
      "metadata": {
        "colab": {
          "base_uri": "https://localhost:8080/"
        },
        "id": "x5nbslMc6CrL",
        "outputId": "e8c1530c-05bc-462a-d8e2-8fb5f5d16b99"
      },
      "execution_count": 55,
      "outputs": [
        {
          "output_type": "stream",
          "name": "stdout",
          "text": [
            "Model: \"sequential\"\n",
            "_________________________________________________________________\n",
            " Layer (type)                Output Shape              Param #   \n",
            "=================================================================\n",
            " text_vectorization (TextVec  (None, None)             0         \n",
            " torization)                                                     \n",
            "                                                                 \n",
            " embedding (Embedding)       (None, None, 16)          160000    \n",
            "                                                                 \n",
            " lstm (LSTM)                 (None, None, 16)          2112      \n",
            "                                                                 \n",
            " lstm_1 (LSTM)               (None, 16)                2112      \n",
            "                                                                 \n",
            " dropout (Dropout)           (None, 16)                0         \n",
            "                                                                 \n",
            " dense (Dense)               (None, 8)                 136       \n",
            "                                                                 \n",
            " dense_1 (Dense)             (None, 1)                 9         \n",
            "                                                                 \n",
            "=================================================================\n",
            "Total params: 164,369\n",
            "Trainable params: 164,369\n",
            "Non-trainable params: 0\n",
            "_________________________________________________________________\n"
          ]
        }
      ]
    },
    {
      "cell_type": "code",
      "source": [
        "# Melihat Diagram Model\n",
        "keras.utils.vis_utils.plot_model(model, \"model.png\")"
      ],
      "metadata": {
        "colab": {
          "base_uri": "https://localhost:8080/",
          "height": 758
        },
        "id": "tompQrkP6KJc",
        "outputId": "26fc8b0d-f325-43ee-dfe6-acb41f71714c"
      },
      "execution_count": 56,
      "outputs": [
        {
          "output_type": "execute_result",
          "data": {
            "image/png": "[encoded data removed]",
            "text/plain": [
              "<IPython.core.display.Image object>"
            ]
          },
          "metadata": {},
          "execution_count": 56
        }
      ]
    },
    {
      "cell_type": "code",
      "source": [
        "# Melatih model\n",
        "history = model.fit(train_dataset,\n",
        "                    epochs=10,\n",
        "                    validation_data=test_dataset)"
      ],
      "metadata": {
        "colab": {
          "base_uri": "https://localhost:8080/"
        },
        "id": "OyornIka6PuI",
        "outputId": "fc891ffa-fa32-48c9-800b-8f4c3a220857"
      },
      "execution_count": 57,
      "outputs": [
        {
          "output_type": "stream",
          "name": "stdout",
          "text": [
            "Epoch 1/10\n",
            "258/258 [==============================] - 22s 60ms/step - loss: -1.8208 - acc: 0.4840 - val_loss: -4.5152 - val_acc: 0.5767\n",
            "Epoch 2/10\n",
            "258/258 [==============================] - 13s 51ms/step - loss: -8.6222 - acc: 0.5857 - val_loss: -12.5799 - val_acc: 0.5880\n",
            "Epoch 3/10\n",
            "258/258 [==============================] - 13s 51ms/step - loss: -19.0575 - acc: 0.5827 - val_loss: -23.5723 - val_acc: 0.5782\n",
            "Epoch 4/10\n",
            "258/258 [==============================] - 14s 54ms/step - loss: -34.1371 - acc: 0.5835 - val_loss: -37.8329 - val_acc: 0.5742\n",
            "Epoch 5/10\n",
            "258/258 [==============================] - 13s 51ms/step - loss: -53.2112 - acc: 0.5822 - val_loss: -55.7057 - val_acc: 0.5789\n",
            "Epoch 6/10\n",
            "258/258 [==============================] - 13s 50ms/step - loss: -76.9983 - acc: 0.5841 - val_loss: -75.4421 - val_acc: 0.5680\n",
            "Epoch 7/10\n",
            "258/258 [==============================] - 13s 50ms/step - loss: -106.3789 - acc: 0.5930 - val_loss: -98.0693 - val_acc: 0.5676\n",
            "Epoch 8/10\n",
            "258/258 [==============================] - 13s 50ms/step - loss: -140.6635 - acc: 0.6028 - val_loss: -126.2099 - val_acc: 0.5778\n",
            "Epoch 9/10\n",
            "258/258 [==============================] - 13s 51ms/step - loss: -177.6733 - acc: 0.6074 - val_loss: -153.3420 - val_acc: 0.5789\n",
            "Epoch 10/10\n",
            "258/258 [==============================] - 13s 51ms/step - loss: -219.6774 - acc: 0.6095 - val_loss: -184.1762 - val_acc: 0.5640\n"
          ]
        }
      ]
    },
    {
      "cell_type": "markdown",
      "source": [
        "Model Evaluation"
      ],
      "metadata": {
        "id": "zcWdSWhg69FE"
      }
    },
    {
      "cell_type": "code",
      "source": [
        "plt.figure()\n",
        "plt.title(\"Akurasi\")\n",
        "plt.plot(history.history[\"acc\"])\n",
        "plt.plot(history.history[\"val_acc\"])\n",
        "\n",
        "plt.figure()\n",
        "plt.title(\"Loss\")\n",
        "plt.plot(history.history[\"loss\"])\n",
        "plt.plot(history.history[\"val_loss\"])\n",
        "\n",
        "plt.show()"
      ],
      "metadata": {
        "colab": {
          "base_uri": "https://localhost:8080/",
          "height": 545
        },
        "id": "zJWZTdDn6--u",
        "outputId": "c5e115b3-b539-43df-f584-bb6c130ce655"
      },
      "execution_count": 58,
      "outputs": [
        {
          "output_type": "display_data",
          "data": {
            "text/plain": [
              "<Figure size 432x288 with 1 Axes>"
            ],
            "image/png": "[encoded data removed]"
          },
          "metadata": {
            "needs_background": "light"
          }
        },
        {
          "output_type": "display_data",
          "data": {
            "text/plain": [
              "<Figure size 432x288 with 1 Axes>"
            ],
            "image/png": "[encoded data removed]"
          },
          "metadata": {
            "needs_background": "light"
          }
        }
      ]
    },
    {
      "cell_type": "markdown",
      "source": [
        "Prediksi Model"
      ],
      "metadata": {
        "id": "rSwlC1vN7OTp"
      }
    },
    {
      "cell_type": "code",
      "source": [
        "contoh_text = [\"makanan beragam , harga makanan di food stall akan ditambahkan 10 % lagi di kasir , suasana ramai dan perlu perhatian untuk mendapatkan parkir dan tempat duduk .\"]\n",
        "prediksi = model.predict(contoh_text) # Probabilitas\n",
        "prediksi.squeeze()  # diatas 0.5 berarti label 1 atau sentimen positif, begitu juga sebaliknya"
      ],
      "metadata": {
        "colab": {
          "base_uri": "https://localhost:8080/"
        },
        "id": "4g8dQrqf7GQ6",
        "outputId": "5c414982-44c4-4d00-9a87-4774af99bd26"
      },
      "execution_count": 67,
      "outputs": [
        {
          "output_type": "stream",
          "name": "stdout",
          "text": [
            "1/1 [==============================] - 0s 34ms/step\n"
          ]
        },
        {
          "output_type": "execute_result",
          "data": {
            "text/plain": [
              "array(1., dtype=float32)"
            ]
          },
          "metadata": {},
          "execution_count": 67
        }
      ]
    },
    {
      "cell_type": "code",
      "source": [
        "if prediksi.squeeze()>0.5:\n",
        "  print(prediksi.squeeze())\n",
        "  print(\"Review positif\")\n",
        "else:\n",
        "  print(prediksi.squeeze())\n",
        "  print(\"Review negatif\")"
      ],
      "metadata": {
        "colab": {
          "base_uri": "https://localhost:8080/"
        },
        "id": "wIGLZ29G7Z8n",
        "outputId": "b706cd12-bc92-4cf2-b4bd-56c526a8cda3"
      },
      "execution_count": 68,
      "outputs": [
        {
          "output_type": "stream",
          "name": "stdout",
          "text": [
            "1.0\n",
            "Review positif\n"
          ]
        }
      ]
    },
    {
      "cell_type": "code",
      "source": [
        "model.save_weights('mymodel_weights')\n",
        "model.save('mymodel',save_format=tf)"
      ],
      "metadata": {
        "colab": {
          "base_uri": "https://localhost:8080/"
        },
        "id": "GkTg9mV57r-x",
        "outputId": "f1bf2a3e-ddfd-44ec-9a77-9e516640672d"
      },
      "execution_count": 69,
      "outputs": [
        {
          "output_type": "stream",
          "name": "stderr",
          "text": [
            "WARNING:absl:Found untraced functions such as lstm_cell_layer_call_fn, lstm_cell_layer_call_and_return_conditional_losses, lstm_cell_1_layer_call_fn, lstm_cell_1_layer_call_and_return_conditional_losses while saving (showing 4 of 4). These functions will not be directly callable after loading.\n"
          ]
        }
      ]
    },
    {
      "cell_type": "code",
      "source": [
        "tf.keras.models.load_model(\"mymodel\")"
      ],
      "metadata": {
        "colab": {
          "base_uri": "https://localhost:8080/"
        },
        "id": "D7LASpZI8Dgj",
        "outputId": "7e62e79b-1093-4ddf-a188-d6f2f9400c3a"
      },
      "execution_count": 70,
      "outputs": [
        {
          "output_type": "execute_result",
          "data": {
            "text/plain": [
              "<keras.engine.sequential.Sequential at 0x7f7d55286ee0>"
            ]
          },
          "metadata": {},
          "execution_count": 70
        }
      ]
    },
    {
      "cell_type": "code",
      "source": [
        "contoh_text = [\"lokasi strategis pusat kota, nyaman\"]\n",
        "prediksi = model.predict(contoh_text) # Probabilitas\n",
        "prediksi.squeeze()\n",
        "if prediksi.squeeze()>0.5:\n",
        "  print(prediksi.squeeze())\n",
        "  print(\"Review positif\")\n",
        "else:\n",
        "  print(prediksi.squeeze())\n",
        "  print(\"Review negatif\")\n",
        "     "
      ],
      "metadata": {
        "colab": {
          "base_uri": "https://localhost:8080/"
        },
        "id": "OlPxuMNE8KPG",
        "outputId": "9981f9d5-e02a-418a-fd85-fa01263f2b79"
      },
      "execution_count": 71,
      "outputs": [
        {
          "output_type": "stream",
          "name": "stdout",
          "text": [
            "1/1 [==============================] - 0s 59ms/step\n",
            "1.0\n",
            "Review positif\n"
          ]
        }
      ]
    }
  ]
}