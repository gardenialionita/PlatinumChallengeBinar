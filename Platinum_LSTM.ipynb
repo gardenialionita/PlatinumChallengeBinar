{
  "cells": [
    {
      "cell_type": "markdown",
      "metadata": {
        "id": "view-in-github",
        "colab_type": "text"
      },
      "source": [
        "<a href=\"https://colab.research.google.com/github/gardenialionita/PlatinumChallengeBinar/blob/gardenialionita-patch-1/Platinum_LSTM.ipynb\" target=\"_parent\"><img src=\"https://colab.research.google.com/assets/colab-badge.svg\" alt=\"Open In Colab\"/></a>"
      ]
    },
    {
      "cell_type": "code",
      "execution_count": 1,
      "metadata": {
        "id": "3oRFVqa0EGa7",
        "colab": {
          "base_uri": "https://localhost:8080/"
        },
        "outputId": "35e02434-26d6-472a-ca27-7ef1d6596e46"
      },
      "outputs": [
        {
          "output_type": "stream",
          "name": "stdout",
          "text": [
            "\u001b[?25l\r\u001b[K     |█▋                              | 10 kB 21.1 MB/s eta 0:00:01\r\u001b[K     |███▏                            | 20 kB 8.4 MB/s eta 0:00:01\r\u001b[K     |████▊                           | 30 kB 11.8 MB/s eta 0:00:01\r\u001b[K     |██████▎                         | 40 kB 4.6 MB/s eta 0:00:01\r\u001b[K     |███████▉                        | 51 kB 4.9 MB/s eta 0:00:01\r\u001b[K     |█████████▍                      | 61 kB 5.7 MB/s eta 0:00:01\r\u001b[K     |███████████                     | 71 kB 5.7 MB/s eta 0:00:01\r\u001b[K     |████████████▌                   | 81 kB 4.3 MB/s eta 0:00:01\r\u001b[K     |██████████████                  | 92 kB 4.8 MB/s eta 0:00:01\r\u001b[K     |███████████████▋                | 102 kB 5.2 MB/s eta 0:00:01\r\u001b[K     |█████████████████▏              | 112 kB 5.2 MB/s eta 0:00:01\r\u001b[K     |██████████████████▊             | 122 kB 5.2 MB/s eta 0:00:01\r\u001b[K     |████████████████████▎           | 133 kB 5.2 MB/s eta 0:00:01\r\u001b[K     |█████████████████████▉          | 143 kB 5.2 MB/s eta 0:00:01\r\u001b[K     |███████████████████████▍        | 153 kB 5.2 MB/s eta 0:00:01\r\u001b[K     |█████████████████████████       | 163 kB 5.2 MB/s eta 0:00:01\r\u001b[K     |██████████████████████████▌     | 174 kB 5.2 MB/s eta 0:00:01\r\u001b[K     |████████████████████████████    | 184 kB 5.2 MB/s eta 0:00:01\r\u001b[K     |█████████████████████████████▋  | 194 kB 5.2 MB/s eta 0:00:01\r\u001b[K     |███████████████████████████████▏| 204 kB 5.2 MB/s eta 0:00:01\r\u001b[K     |████████████████████████████████| 210 kB 5.2 MB/s \n",
            "\u001b[?25h"
          ]
        }
      ],
      "source": [
        "!pip install -q PySastrawi"
      ]
    },
    {
      "cell_type": "code",
      "execution_count": 2,
      "metadata": {
        "colab": {
          "base_uri": "https://localhost:8080/"
        },
        "id": "2MsjWs2g1RYb",
        "outputId": "aaf55168-9dee-4363-c11a-f71e8737d439"
      },
      "outputs": [
        {
          "output_type": "stream",
          "name": "stderr",
          "text": [
            "[nltk_data] Downloading package stopwords to /root/nltk_data...\n",
            "[nltk_data]   Unzipping corpora/stopwords.zip.\n",
            "[nltk_data] Downloading package wordnet to /root/nltk_data...\n",
            "[nltk_data] Downloading package punkt to /root/nltk_data...\n",
            "[nltk_data]   Unzipping tokenizers/punkt.zip.\n"
          ]
        }
      ],
      "source": [
        "# Standar Library\n",
        "import re\n",
        "import string\n",
        "\n",
        "# Third-party Library\n",
        "import numpy as np\n",
        "import pandas as pd\n",
        "import matplotlib.pyplot as plt\n",
        "from sklearn.model_selection import train_test_split\n",
        "from sklearn.feature_extraction.text import CountVectorizer, TfidfTransformer\n",
        "\n",
        "import keras\n",
        "from keras.preprocessing.text import Tokenizer\n",
        "import tensorflow as tf\n",
        "from Sastrawi.Stemmer.StemmerFactory import StemmerFactory\n",
        "\n",
        "import nltk\n",
        "nltk.download('stopwords')\n",
        "nltk.download('wordnet')\n",
        "nltk.download('punkt')\n",
        "from nltk.corpus import stopwords\n",
        "from nltk import word_tokenize"
      ]
    },
    {
      "cell_type": "markdown",
      "metadata": {
        "id": "ayl7B_RhD0lM"
      },
      "source": [
        "**Data Collections**"
      ]
    },
    {
      "cell_type": "code",
      "execution_count": 3,
      "metadata": {
        "colab": {
          "base_uri": "https://localhost:8080/"
        },
        "id": "D_t1hiLgv1L0",
        "outputId": "863bdbca-a6b3-434f-a392-1e0645a71324"
      },
      "outputs": [
        {
          "output_type": "stream",
          "name": "stdout",
          "text": [
            "                                                    text     label\n",
            "0      warung ini dimiliki oleh pengusaha pabrik tahu...  positive\n",
            "1      mohon ulama lurus dan k212 mmbri hujjah partai...   neutral\n",
            "2      lokasi strategis di jalan sumatera bandung . t...  positive\n",
            "3      betapa bahagia nya diri ini saat unboxing pake...  positive\n",
            "4      duh . jadi mahasiswa jangan sombong dong . kas...  negative\n",
            "...                                                  ...       ...\n",
            "12239  keren , ditantang menteri susi , sandiaga gela...   neutral\n",
            "12240  xiaomi , samsung , tergantung sih kamu mau tip...   neutral\n",
            "12241  demokrat sodorkan subri dampingi habib hadi di...   neutral\n",
            "12242  daftar obat sakit tenggorokan yang diresepkan ...   neutral\n",
            "12243  tengok setya novanto di rutan kpk , deisti tum...   neutral\n",
            "\n",
            "[12244 rows x 2 columns]\n"
          ]
        }
      ],
      "source": [
        "# Read TSV file into DataFrame\n",
        "data = pd.read_table('https://gist.githubusercontent.com/gardenialionita/0e9d51539fce7bad50ef263f7b643347/raw/b2db2b370091e99193259875a33de3e478d7f0a3/train_preprocess.tsv',  names=[\"text\", \"label\"])\n",
        "print(data)\n"
      ]
    },
    {
      "cell_type": "code",
      "execution_count": 4,
      "metadata": {
        "colab": {
          "base_uri": "https://localhost:8080/"
        },
        "id": "jBvVJOcDbk69",
        "outputId": "e8064bc5-84b9-412a-9efe-86bfa1ea3d00"
      },
      "outputs": [
        {
          "output_type": "stream",
          "name": "stdout",
          "text": [
            "The train dataset contains 12244 rows and 2 columns\n"
          ]
        }
      ],
      "source": [
        "print('The train dataset contains {} rows and {} columns'.format(data.shape[0], data.shape[1]))"
      ]
    },
    {
      "cell_type": "code",
      "execution_count": 5,
      "metadata": {
        "colab": {
          "base_uri": "https://localhost:8080/"
        },
        "id": "KGwFBsLiBpms",
        "outputId": "878c9c3c-2b60-455d-a917-4b170e7ad275"
      },
      "outputs": [
        {
          "output_type": "stream",
          "name": "stdout",
          "text": [
            "          text\n",
            "label         \n",
            "negative  3436\n",
            "neutral   2392\n",
            "positive  6416\n"
          ]
        }
      ],
      "source": [
        "# cek jml data\n",
        "result = data.groupby(['label']).count()\n",
        "print(result)"
      ]
    },
    {
      "cell_type": "code",
      "execution_count": 6,
      "metadata": {
        "colab": {
          "base_uri": "https://localhost:8080/"
        },
        "id": "SaFET2BSp8yX",
        "outputId": "02f1968a-07ec-459c-f044-790c6db112a6"
      },
      "outputs": [
        {
          "output_type": "execute_result",
          "data": {
            "text/plain": [
              "text     0\n",
              "label    0\n",
              "dtype: int64"
            ]
          },
          "metadata": {},
          "execution_count": 6
        }
      ],
      "source": [
        "data.isnull().sum()"
      ]
    },
    {
      "cell_type": "markdown",
      "metadata": {
        "id": "PgPO4ZVBCZbW"
      },
      "source": [
        "**Text Preprocessing: Text Cleaning**\n",
        "1. Pengubahan beberapa tanda baca menjadi spasi\n",
        "2. Reduksi spasi yang berlebihan menjadi satu spasi\n",
        "3. Penyamaan huruf besar dan kecil\n",
        "4. Menghapus stopwords"
      ]
    },
    {
      "cell_type": "code",
      "execution_count": 7,
      "metadata": {
        "id": "VS7OwgA_1Cd9"
      },
      "outputs": [],
      "source": [
        "punctuations = re.sub(r\"[!<_>#:)\\.]\", \"\", string.punctuation)\n",
        "\n",
        "def punct2wspace(text):\n",
        "    return re.sub(r\"[{}]+\".format(punctuations), \" \", text)\n",
        "\n",
        "def normalize_wspace(text):\n",
        "    return re.sub(r\"\\s+\", \" \", text)\n",
        "\n",
        "def casefolding(text):\n",
        "    return text.lower()"
      ]
    },
    {
      "cell_type": "code",
      "execution_count": 8,
      "metadata": {
        "id": "jVEuB8UPriJt"
      },
      "outputs": [],
      "source": [
        "#clean stopwords\n",
        "stopword = set(stopwords.words('indonesian'))\n",
        "def clean_stopwords(text):\n",
        "    text = ' '.join(word for word in text.split() if word not in stopword) # hapus stopword dari kolom text\n",
        "    return text"
      ]
    },
    {
      "cell_type": "code",
      "execution_count": 9,
      "metadata": {
        "id": "BtArWjq62xrc"
      },
      "outputs": [],
      "source": [
        "def stemmingtokenization(text):\n",
        "    factory = StemmerFactory()\n",
        "    stemmer = factory.create_stemmer()\n",
        "    tokens = word_tokenize(text)\n",
        "    final = [stemmer.stem(tagged_word) for tagged_word in tokens]\n",
        "    return \" \".join(final)"
      ]
    },
    {
      "cell_type": "code",
      "execution_count": 10,
      "metadata": {
        "id": "uc5zdrHP3D6U"
      },
      "outputs": [],
      "source": [
        "def preprocess_text(text):\n",
        "    text = punct2wspace(text)\n",
        "    text = normalize_wspace(text)\n",
        "    text = casefolding(text)\n",
        "    text = stemmingtokenization(text)\n",
        "    text = clean_stopwords(text)\n",
        "    #text = final(text)\n",
        "    return text"
      ]
    },
    {
      "cell_type": "code",
      "execution_count": 11,
      "metadata": {
        "colab": {
          "base_uri": "https://localhost:8080/",
          "height": 206
        },
        "id": "sny2V83y3MZw",
        "outputId": "ec479a63-65c2-4cec-f6da-78c8a0a654c2"
      },
      "outputs": [
        {
          "output_type": "execute_result",
          "data": {
            "text/plain": [
              "                                                text     label  \\\n",
              "0  warung ini dimiliki oleh pengusaha pabrik tahu...  positive   \n",
              "1  mohon ulama lurus dan k212 mmbri hujjah partai...   neutral   \n",
              "2  lokasi strategis di jalan sumatera bandung . t...  positive   \n",
              "3  betapa bahagia nya diri ini saat unboxing pake...  positive   \n",
              "4  duh . jadi mahasiswa jangan sombong dong . kas...  negative   \n",
              "\n",
              "                                        cleaned_text  \n",
              "0  warung milik usaha pabrik puluh kenal putih ba...  \n",
              "1  mohon ulama lurus k212 mmbri hujjah partai diw...  \n",
              "2  lokasi strategis jalan sumatera bandung nya ny...  \n",
              "3  betapa bahagia nya unboxing paket barang nya b...  \n",
              "4  duh mahasiswa sombong kasih kartu kuning ajar ...  "
            ],
            "text/html": [
              "\n",
              "  <div id=\"df-31fd49a6-6e25-4c5f-9056-3cb2cdfc15c6\">\n",
              "    <div class=\"colab-df-container\">\n",
              "      <div>\n",
              "<style scoped>\n",
              "    .dataframe tbody tr th:only-of-type {\n",
              "        vertical-align: middle;\n",
              "    }\n",
              "\n",
              "    .dataframe tbody tr th {\n",
              "        vertical-align: top;\n",
              "    }\n",
              "\n",
              "    .dataframe thead th {\n",
              "        text-align: right;\n",
              "    }\n",
              "</style>\n",
              "<table border=\"1\" class=\"dataframe\">\n",
              "  <thead>\n",
              "    <tr style=\"text-align: right;\">\n",
              "      <th></th>\n",
              "      <th>text</th>\n",
              "      <th>label</th>\n",
              "      <th>cleaned_text</th>\n",
              "    </tr>\n",
              "  </thead>\n",
              "  <tbody>\n",
              "    <tr>\n",
              "      <th>0</th>\n",
              "      <td>warung ini dimiliki oleh pengusaha pabrik tahu...</td>\n",
              "      <td>positive</td>\n",
              "      <td>warung milik usaha pabrik puluh kenal putih ba...</td>\n",
              "    </tr>\n",
              "    <tr>\n",
              "      <th>1</th>\n",
              "      <td>mohon ulama lurus dan k212 mmbri hujjah partai...</td>\n",
              "      <td>neutral</td>\n",
              "      <td>mohon ulama lurus k212 mmbri hujjah partai diw...</td>\n",
              "    </tr>\n",
              "    <tr>\n",
              "      <th>2</th>\n",
              "      <td>lokasi strategis di jalan sumatera bandung . t...</td>\n",
              "      <td>positive</td>\n",
              "      <td>lokasi strategis jalan sumatera bandung nya ny...</td>\n",
              "    </tr>\n",
              "    <tr>\n",
              "      <th>3</th>\n",
              "      <td>betapa bahagia nya diri ini saat unboxing pake...</td>\n",
              "      <td>positive</td>\n",
              "      <td>betapa bahagia nya unboxing paket barang nya b...</td>\n",
              "    </tr>\n",
              "    <tr>\n",
              "      <th>4</th>\n",
              "      <td>duh . jadi mahasiswa jangan sombong dong . kas...</td>\n",
              "      <td>negative</td>\n",
              "      <td>duh mahasiswa sombong kasih kartu kuning ajar ...</td>\n",
              "    </tr>\n",
              "  </tbody>\n",
              "</table>\n",
              "</div>\n",
              "      <button class=\"colab-df-convert\" onclick=\"convertToInteractive('df-31fd49a6-6e25-4c5f-9056-3cb2cdfc15c6')\"\n",
              "              title=\"Convert this dataframe to an interactive table.\"\n",
              "              style=\"display:none;\">\n",
              "        \n",
              "  <svg xmlns=\"http://www.w3.org/2000/svg\" height=\"24px\"viewBox=\"0 0 24 24\"\n",
              "       width=\"24px\">\n",
              "    <path d=\"M0 0h24v24H0V0z\" fill=\"none\"/>\n",
              "    <path d=\"M18.56 5.44l.94 2.06.94-2.06 2.06-.94-2.06-.94-.94-2.06-.94 2.06-2.06.94zm-11 1L8.5 8.5l.94-2.06 2.06-.94-2.06-.94L8.5 2.5l-.94 2.06-2.06.94zm10 10l.94 2.06.94-2.06 2.06-.94-2.06-.94-.94-2.06-.94 2.06-2.06.94z\"/><path d=\"M17.41 7.96l-1.37-1.37c-.4-.4-.92-.59-1.43-.59-.52 0-1.04.2-1.43.59L10.3 9.45l-7.72 7.72c-.78.78-.78 2.05 0 2.83L4 21.41c.39.39.9.59 1.41.59.51 0 1.02-.2 1.41-.59l7.78-7.78 2.81-2.81c.8-.78.8-2.07 0-2.86zM5.41 20L4 18.59l7.72-7.72 1.47 1.35L5.41 20z\"/>\n",
              "  </svg>\n",
              "      </button>\n",
              "      \n",
              "  <style>\n",
              "    .colab-df-container {\n",
              "      display:flex;\n",
              "      flex-wrap:wrap;\n",
              "      gap: 12px;\n",
              "    }\n",
              "\n",
              "    .colab-df-convert {\n",
              "      background-color: #E8F0FE;\n",
              "      border: none;\n",
              "      border-radius: 50%;\n",
              "      cursor: pointer;\n",
              "      display: none;\n",
              "      fill: #1967D2;\n",
              "      height: 32px;\n",
              "      padding: 0 0 0 0;\n",
              "      width: 32px;\n",
              "    }\n",
              "\n",
              "    .colab-df-convert:hover {\n",
              "      background-color: #E2EBFA;\n",
              "      box-shadow: 0px 1px 2px rgba(60, 64, 67, 0.3), 0px 1px 3px 1px rgba(60, 64, 67, 0.15);\n",
              "      fill: #174EA6;\n",
              "    }\n",
              "\n",
              "    [theme=dark] .colab-df-convert {\n",
              "      background-color: #3B4455;\n",
              "      fill: #D2E3FC;\n",
              "    }\n",
              "\n",
              "    [theme=dark] .colab-df-convert:hover {\n",
              "      background-color: #434B5C;\n",
              "      box-shadow: 0px 1px 3px 1px rgba(0, 0, 0, 0.15);\n",
              "      filter: drop-shadow(0px 1px 2px rgba(0, 0, 0, 0.3));\n",
              "      fill: #FFFFFF;\n",
              "    }\n",
              "  </style>\n",
              "\n",
              "      <script>\n",
              "        const buttonEl =\n",
              "          document.querySelector('#df-31fd49a6-6e25-4c5f-9056-3cb2cdfc15c6 button.colab-df-convert');\n",
              "        buttonEl.style.display =\n",
              "          google.colab.kernel.accessAllowed ? 'block' : 'none';\n",
              "\n",
              "        async function convertToInteractive(key) {\n",
              "          const element = document.querySelector('#df-31fd49a6-6e25-4c5f-9056-3cb2cdfc15c6');\n",
              "          const dataTable =\n",
              "            await google.colab.kernel.invokeFunction('convertToInteractive',\n",
              "                                                     [key], {});\n",
              "          if (!dataTable) return;\n",
              "\n",
              "          const docLinkHtml = 'Like what you see? Visit the ' +\n",
              "            '<a target=\"_blank\" href=https://colab.research.google.com/notebooks/data_table.ipynb>data table notebook</a>'\n",
              "            + ' to learn more about interactive tables.';\n",
              "          element.innerHTML = '';\n",
              "          dataTable['output_type'] = 'display_data';\n",
              "          await google.colab.output.renderOutput(dataTable, element);\n",
              "          const docLink = document.createElement('div');\n",
              "          docLink.innerHTML = docLinkHtml;\n",
              "          element.appendChild(docLink);\n",
              "        }\n",
              "      </script>\n",
              "    </div>\n",
              "  </div>\n",
              "  "
            ]
          },
          "metadata": {},
          "execution_count": 11
        }
      ],
      "source": [
        "data[\"cleaned_text\"] = data[\"text\"].apply(preprocess_text)\n",
        "data.head()"
      ]
    },
    {
      "cell_type": "code",
      "execution_count": 12,
      "metadata": {
        "id": "dFyUbpCCKmkj"
      },
      "outputs": [],
      "source": [
        "import os  \n",
        "os.makedirs('folder/subfolder', exist_ok=True)  \n",
        "data.to_csv('folder/subfolder/out.csv') "
      ]
    },
    {
      "cell_type": "markdown",
      "metadata": {
        "id": "P6m7zc8aDdTt"
      },
      "source": [
        "**Text Preprocessing: Dapatkan Teks dan Label**"
      ]
    },
    {
      "cell_type": "code",
      "execution_count": 13,
      "metadata": {
        "id": "hYpHSO6WDj3_"
      },
      "outputs": [],
      "source": [
        "target = data[\"label\"].map({\"positive\": 1, \"neutral\": 0, \"negative\":-1})\n",
        "features_text = data[\"cleaned_text\"]"
      ]
    },
    {
      "cell_type": "markdown",
      "metadata": {
        "id": "FHr4KRmj5XKa"
      },
      "source": [
        "**Input Pipeline: Split Data**"
      ]
    },
    {
      "cell_type": "code",
      "execution_count": 14,
      "metadata": {
        "id": "vliZzKTv5Yvn"
      },
      "outputs": [],
      "source": [
        "#split data\n",
        "X_train, X_test, y_train, y_test = train_test_split(features_text, target,\n",
        "                                                    test_size=0.2,random_state=42)"
      ]
    },
    {
      "cell_type": "markdown",
      "metadata": {
        "id": "oZTKeA7ZRIQx"
      },
      "source": [
        "**Input Pipeline: TF Dataset**"
      ]
    },
    {
      "cell_type": "code",
      "execution_count": 15,
      "metadata": {
        "id": "FP_RDZ_Q5aoi"
      },
      "outputs": [],
      "source": [
        "#TF Dataset\n",
        "BATCH_SIZE = 64"
      ]
    },
    {
      "cell_type": "code",
      "execution_count": 16,
      "metadata": {
        "id": "5ZlliNCY5gUC"
      },
      "outputs": [],
      "source": [
        "# Ubah input menjadi objek tf.data.Dataset\n",
        "train_dataset = tf.data.Dataset.from_tensor_slices((X_train, y_train))\n",
        "test_dataset = tf.data.Dataset.from_tensor_slices((X_test, y_test))\n",
        "\n",
        "# Terapkan shuffle, batch dan prefetch pada dataset\n",
        "train_dataset = train_dataset.batch(BATCH_SIZE).prefetch(tf.data.AUTOTUNE)\n",
        "test_dataset = test_dataset.batch(BATCH_SIZE).prefetch(tf.data.AUTOTUNE)"
      ]
    },
    {
      "cell_type": "code",
      "execution_count": 17,
      "metadata": {
        "colab": {
          "base_uri": "https://localhost:8080/"
        },
        "id": "YXc_pt7d5kb6",
        "outputId": "a6ba5e46-2d1f-4e57-9a16-2ea1abc19c67"
      },
      "outputs": [
        {
          "output_type": "stream",
          "name": "stdout",
          "text": [
            "tf.Tensor(\n",
            "[b'nya susah temu layan nya buruk minum lumayan mahal situasi nya tarik buruk'\n",
            " b'titik jenuh libur nyata nya bab 2 acc'\n",
            " b'lumayan atmosfer nya enak santai santai bareng cerita nya sengaja pengin coba pas masuk cari pria ya langsung resto nya lapar hahaha pesan nasi bambu lupa nama nya sih minum nya sih enak lihat harga nya ya jujur mahal rekomendasi'], shape=(3,), dtype=string)\n",
            "tf.Tensor([-1 -1 -1], shape=(3,), dtype=int64)\n"
          ]
        }
      ],
      "source": [
        "# Melihat isi dataset\n",
        "for feat, tar in train_dataset.take(1):\n",
        "    print(feat[:3])\n",
        "    print(tar[:3])"
      ]
    },
    {
      "cell_type": "markdown",
      "metadata": {
        "id": "WLT-U7mISUhV"
      },
      "source": [
        "**Input Pipeline: Text Encoder**"
      ]
    },
    {
      "cell_type": "code",
      "execution_count": 18,
      "metadata": {
        "id": "4-2TVx165tUe"
      },
      "outputs": [],
      "source": [
        "#Text Encoder\n",
        "max_features = 10000      # Jumlah kosakata\n",
        "embedding_dim = 16        # Jumlah dimensi dalam word embedding"
      ]
    },
    {
      "cell_type": "code",
      "execution_count": 19,
      "metadata": {
        "id": "GJHz5C4Y50Oh"
      },
      "outputs": [],
      "source": [
        "# Buat text vectorizer\n",
        "encoder = keras.layers.TextVectorization(max_tokens=max_features)\n",
        "\n",
        "# Latih tokenizer pada data teks\n",
        "encoder.adapt(train_dataset.map(lambda feat, tar: feat))\n",
        "     "
      ]
    },
    {
      "cell_type": "code",
      "execution_count": 20,
      "metadata": {
        "colab": {
          "base_uri": "https://localhost:8080/"
        },
        "id": "hF9eE6H152Y-",
        "outputId": "3614fc4d-e6f7-4d6d-f53d-0f54e3eb0049"
      },
      "outputs": [
        {
          "output_type": "execute_result",
          "data": {
            "text/plain": [
              "<tf.Tensor: shape=(3, 40), dtype=int64, numpy=\n",
              "array([[   2,  197,  121,   10,    2,  517,   32,   27,   26, 2846,    2,\n",
              "          94,  517,    0,    0,    0,    0,    0,    0,    0,    0,    0,\n",
              "           0,    0,    0,    0,    0,    0,    0,    0,    0,    0,    0,\n",
              "           0,    0,    0,    0,    0,    0,    0],\n",
              "       [1786,  935,  226,   74,    2,    1,   59,    1,    0,    0,    0,\n",
              "           0,    0,    0,    0,    0,    0,    0,    0,    0,    0,    0,\n",
              "           0,    0,    0,    0,    0,    0,    0,    0,    0,    0,    0,\n",
              "           0,    0,    0,    0,    0,    0,    0],\n",
              "       [  27, 2062,    2,    4,  243,  243,  286,  919,    2,  540, 1709,\n",
              "          14,   29,   49,   83, 1808,   25,  100,   40,    2,  358,  981,\n",
              "          30,   24,  351,  181,  128,    2,   36,   32,    2,   36,    4,\n",
              "          44,    5,    2,   25,  976,   26,   55]])>"
            ]
          },
          "metadata": {},
          "execution_count": 20
        }
      ],
      "source": [
        "# Tokenisasi data teks\n",
        "encoder(feat)[:3]"
      ]
    },
    {
      "cell_type": "markdown",
      "metadata": {
        "id": "nxGB-7Q956zl"
      },
      "source": [
        "Model Building"
      ]
    },
    {
      "cell_type": "code",
      "execution_count": 21,
      "metadata": {
        "id": "X4lKB0Bp59SW"
      },
      "outputs": [],
      "source": [
        "# Buat model sequential (berurutan)\n",
        "model = keras.Sequential()\n",
        "model.add(encoder)\n",
        "model.add(keras.layers.Embedding(\n",
        "    input_dim=len(encoder.get_vocabulary()), \n",
        "    output_dim=embedding_dim, \n",
        "    mask_zero=True)\n",
        ")\n",
        "model.add(keras.layers.LSTM(16, return_sequences=True))\n",
        "model.add(keras.layers.LSTM(16))\n",
        "model.add(keras.layers.Dropout(0.5))\n",
        "model.add(keras.layers.Dense(1))\n",
        "model.add(keras.layers.Dense(1, activation=\"sigmoid\"))\n",
        "\n",
        "# Tentukan loss, optimizer dan metrik yang akan digunakan\n",
        "model.compile(loss=\"binary_crossentropy\", \n",
        "              optimizer=\"adam\",\n",
        "              metrics=[\"acc\"])"
      ]
    },
    {
      "cell_type": "markdown",
      "metadata": {
        "id": "ZGi1Z5b06F60"
      },
      "source": [
        "Struktur Model"
      ]
    },
    {
      "cell_type": "code",
      "execution_count": 22,
      "metadata": {
        "colab": {
          "base_uri": "https://localhost:8080/"
        },
        "id": "x5nbslMc6CrL",
        "outputId": "a1d2de46-a516-4b8c-d078-79df1899a67e"
      },
      "outputs": [
        {
          "output_type": "stream",
          "name": "stdout",
          "text": [
            "Model: \"sequential\"\n",
            "_________________________________________________________________\n",
            " Layer (type)                Output Shape              Param #   \n",
            "=================================================================\n",
            " text_vectorization (TextVec  (None, None)             0         \n",
            " torization)                                                     \n",
            "                                                                 \n",
            " embedding (Embedding)       (None, None, 16)          160000    \n",
            "                                                                 \n",
            " lstm (LSTM)                 (None, None, 16)          2112      \n",
            "                                                                 \n",
            " lstm_1 (LSTM)               (None, 16)                2112      \n",
            "                                                                 \n",
            " dropout (Dropout)           (None, 16)                0         \n",
            "                                                                 \n",
            " dense (Dense)               (None, 1)                 17        \n",
            "                                                                 \n",
            " dense_1 (Dense)             (None, 1)                 2         \n",
            "                                                                 \n",
            "=================================================================\n",
            "Total params: 164,243\n",
            "Trainable params: 164,243\n",
            "Non-trainable params: 0\n",
            "_________________________________________________________________\n"
          ]
        }
      ],
      "source": [
        "\n",
        "# Melihat arsitektur model\n",
        "model.summary()\n",
        "     "
      ]
    },
    {
      "cell_type": "code",
      "execution_count": 23,
      "metadata": {
        "colab": {
          "base_uri": "https://localhost:8080/",
          "height": 758
        },
        "id": "tompQrkP6KJc",
        "outputId": "9d40715b-9e21-4559-a7c4-6a9277ba1e20"
      },
      "outputs": [
        {
          "output_type": "execute_result",
          "data": {
            "image/png": "[encoded data removed]",
            "text/plain": [
              "<IPython.core.display.Image object>"
            ]
          },
          "metadata": {},
          "execution_count": 23
        }
      ],
      "source": [
        "# Melihat Diagram Model\n",
        "keras.utils.vis_utils.plot_model(model, \"model.png\")"
      ]
    },
    {
      "cell_type": "code",
      "execution_count": 24,
      "metadata": {
        "colab": {
          "base_uri": "https://localhost:8080/"
        },
        "id": "OyornIka6PuI",
        "outputId": "0ee78fc5-f6cf-4a01-af7c-102d8021148a"
      },
      "outputs": [
        {
          "output_type": "stream",
          "name": "stdout",
          "text": [
            "Epoch 1/5\n",
            "154/154 [==============================] - 25s 100ms/step - loss: -0.3290 - acc: 0.4407 - val_loss: -1.5190 - val_acc: 0.6256\n",
            "Epoch 2/5\n",
            "154/154 [==============================] - 11s 72ms/step - loss: -2.7084 - acc: 0.6345 - val_loss: -3.0654 - val_acc: 0.6239\n",
            "Epoch 3/5\n",
            "154/154 [==============================] - 11s 69ms/step - loss: -4.9428 - acc: 0.6482 - val_loss: -4.9058 - val_acc: 0.6235\n",
            "Epoch 4/5\n",
            "154/154 [==============================] - 11s 69ms/step - loss: -7.6483 - acc: 0.6552 - val_loss: -6.7678 - val_acc: 0.6350\n",
            "Epoch 5/5\n",
            "154/154 [==============================] - 11s 71ms/step - loss: -10.5423 - acc: 0.6598 - val_loss: -8.5769 - val_acc: 0.6341\n"
          ]
        }
      ],
      "source": [
        "# Melatih model\n",
        "history = model.fit(train_dataset,\n",
        "                    epochs=5,\n",
        "                    validation_data=test_dataset)\n",
        "     "
      ]
    },
    {
      "cell_type": "markdown",
      "metadata": {
        "id": "zcWdSWhg69FE"
      },
      "source": [
        "Model Evaluation"
      ]
    },
    {
      "cell_type": "code",
      "execution_count": 25,
      "metadata": {
        "colab": {
          "base_uri": "https://localhost:8080/",
          "height": 545
        },
        "id": "zJWZTdDn6--u",
        "outputId": "908be0cf-7607-4e38-e689-6f7e37890e66"
      },
      "outputs": [
        {
          "output_type": "display_data",
          "data": {
            "text/plain": [
              "<Figure size 432x288 with 1 Axes>"
            ],
            "image/png": "[encoded data removed]"
          },
          "metadata": {
            "needs_background": "light"
          }
        },
        {
          "output_type": "display_data",
          "data": {
            "text/plain": [
              "<Figure size 432x288 with 1 Axes>"
            ],
            "image/png": "[encoded data removed]"
          },
          "metadata": {
            "needs_background": "light"
          }
        }
      ],
      "source": [
        "plt.figure()\n",
        "plt.title(\"Akurasi\")\n",
        "plt.plot(history.history[\"acc\"])\n",
        "plt.plot(history.history[\"val_acc\"])\n",
        "\n",
        "plt.figure()\n",
        "plt.title(\"Loss\")\n",
        "plt.plot(history.history[\"loss\"])\n",
        "plt.plot(history.history[\"val_loss\"])\n",
        "\n",
        "plt.show()"
      ]
    },
    {
      "cell_type": "markdown",
      "metadata": {
        "id": "rSwlC1vN7OTp"
      },
      "source": [
        "Prediksi Model"
      ]
    },
    {
      "cell_type": "code",
      "execution_count": 26,
      "metadata": {
        "colab": {
          "base_uri": "https://localhost:8080/"
        },
        "id": "4g8dQrqf7GQ6",
        "outputId": "d69e9023-d995-4f1e-9d5f-97268bb3c305"
      },
      "outputs": [
        {
          "output_type": "stream",
          "name": "stdout",
          "text": [
            "1/1 [==============================] - 3s 3s/step\n"
          ]
        },
        {
          "output_type": "execute_result",
          "data": {
            "text/plain": [
              "array(1.8007497e-12, dtype=float32)"
            ]
          },
          "metadata": {},
          "execution_count": 26
        }
      ],
      "source": [
        "contoh_text = [\"Lumayan sih tapi masih mau nyoba yang lain.\"]\n",
        "prediksi = model.predict(contoh_text) # Probabilitas\n",
        "prediksi.squeeze()  # diatas 0.5 berarti label 1 atau sentimen positif, begitu juga sebaliknya"
      ]
    },
    {
      "cell_type": "code",
      "execution_count": 27,
      "metadata": {
        "colab": {
          "base_uri": "https://localhost:8080/"
        },
        "id": "wIGLZ29G7Z8n",
        "outputId": "fd571e80-7042-4eb6-ab7b-9047e3421dfd"
      },
      "outputs": [
        {
          "output_type": "stream",
          "name": "stdout",
          "text": [
            "1.8007497e-12\n",
            "Review negatif\n"
          ]
        }
      ],
      "source": [
        "if prediksi.squeeze()>0.5:\n",
        "  print(prediksi.squeeze())\n",
        "  print(\"Review positif\")\n",
        "else:\n",
        "  print(prediksi.squeeze())\n",
        "  print(\"Review negatif\")"
      ]
    },
    {
      "cell_type": "code",
      "execution_count": 28,
      "metadata": {
        "colab": {
          "base_uri": "https://localhost:8080/"
        },
        "id": "GkTg9mV57r-x",
        "outputId": "cb900a94-5e99-48c2-fcbb-a1bcb6711957"
      },
      "outputs": [
        {
          "output_type": "stream",
          "name": "stderr",
          "text": [
            "WARNING:absl:Found untraced functions such as lstm_cell_layer_call_fn, lstm_cell_layer_call_and_return_conditional_losses, lstm_cell_1_layer_call_fn, lstm_cell_1_layer_call_and_return_conditional_losses while saving (showing 4 of 4). These functions will not be directly callable after loading.\n"
          ]
        }
      ],
      "source": [
        "model.save_weights('mymodel_weights')\n",
        "model.save('mymodel',save_format=tf)"
      ]
    },
    {
      "cell_type": "code",
      "execution_count": 29,
      "metadata": {
        "colab": {
          "base_uri": "https://localhost:8080/"
        },
        "id": "ZRkvz8LiWQ4x",
        "outputId": "9aca218e-7ffc-49af-ccc1-83baae049ceb"
      },
      "outputs": [
        {
          "output_type": "stream",
          "name": "stdout",
          "text": [
            "77/77 [==============================] - 6s 18ms/step - loss: -8.5769 - acc: 0.6341\n",
            "Test accuracy:  63.41363787651062 %\n"
          ]
        }
      ],
      "source": [
        "# model evaluation\n",
        "from keras.models import load_model\n",
        "\n",
        "model = load_model('mymodel')\n",
        "scores = model.evaluate(X_test, y_test)\n",
        "\n",
        "LSTM_accuracy = scores[1]*100\n",
        "\n",
        "print('Test accuracy: ', scores[1]*100, '%')"
      ]
    },
    {
      "cell_type": "code",
      "execution_count": 30,
      "metadata": {
        "colab": {
          "base_uri": "https://localhost:8080/"
        },
        "id": "D7LASpZI8Dgj",
        "outputId": "f39b0dfd-b591-482e-bca3-feeff3aea68e"
      },
      "outputs": [
        {
          "output_type": "execute_result",
          "data": {
            "text/plain": [
              "<keras.engine.sequential.Sequential at 0x7f45aab28640>"
            ]
          },
          "metadata": {},
          "execution_count": 30
        }
      ],
      "source": [
        "tf.keras.models.load_model(\"mymodel\")"
      ]
    },
    {
      "cell_type": "code",
      "execution_count": 31,
      "metadata": {
        "colab": {
          "base_uri": "https://localhost:8080/"
        },
        "id": "OlPxuMNE8KPG",
        "outputId": "ed57c958-ad92-4ad9-b282-962b65048341"
      },
      "outputs": [
        {
          "output_type": "stream",
          "name": "stdout",
          "text": [
            "1/1 [==============================] - 3s 3s/step\n",
            "0.96312076\n",
            "Review positif\n"
          ]
        }
      ],
      "source": [
        "contoh_text = [\"lokasi strategis pusat kota, nyaman\"]\n",
        "prediksi = model.predict(contoh_text) # Probabilitas\n",
        "prediksi.squeeze()\n",
        "if prediksi.squeeze()>0.5:\n",
        "  print(prediksi.squeeze())\n",
        "  print(\"Review positif\")\n",
        "else:\n",
        "  print(prediksi.squeeze())\n",
        "  print(\"Review negatif\")\n",
        "     "
      ]
    }
  ],
  "metadata": {
    "colab": {
      "provenance": [],
      "authorship_tag": "ABX9TyNH/8laIXxKtO4VwYG9Q1yV",
      "include_colab_link": true
    },
    "kernelspec": {
      "display_name": "Python 3",
      "name": "python3"
    },
    "language_info": {
      "name": "python"
    }
  },
  "nbformat": 4,
  "nbformat_minor": 0
}